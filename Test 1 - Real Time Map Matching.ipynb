{
 "cells": [
  {
   "cell_type": "code",
   "execution_count": 1,
   "id": "3c70612d-fcf9-49b3-82a8-1a984a6baef3",
   "metadata": {},
   "outputs": [],
   "source": [
    "import pandas as pd\n",
    "import numpy as np\n",
    "from geopy.distance import geodesic\n",
    "\n",
    "# Simulate a DataFrame for testing purposes\n",
    "data = {\n",
    "    'gps_lat': [41.8902, 41.8904, 41.8906],\n",
    "    'gps_lon': [12.4924, 12.4926, 12.4928],\n",
    "    'road_lat': [41.8903, 41.8905, 41.8907],\n",
    "    'road_lon': [12.4925, 12.4927, 12.4929],\n",
    "    'speed': [30, 35, 32],\n",
    "    'heading': [180, 182, 190],\n",
    "    'road_segment_id': [1, 1, 2]\n",
    "}\n",
    "\n",
    "# Create a DataFrame\n",
    "df = pd.DataFrame(data)\n",
    "\n",
    "# Function to calculate distance between GPS point and road point\n",
    "def calculate_distance(row):\n",
    "    gps_point = (row['gps_lat'], row['gps_lon'])\n",
    "    road_point = (row['road_lat'], row['road_lon'])\n",
    "    return geodesic(gps_point, road_point).meters\n",
    "\n",
    "# Add a distance feature (distance from GPS to nearest road)\n",
    "df['distance_to_road'] = df.apply(calculate_distance, axis=1)\n",
    "\n",
    "# Additional features like speed and heading are already present in the dataset\n",
    "# You may add more features like timestamp, acceleration, bearing differences, etc.\n",
    "\n",
    "# Features (input) and labels (road segment ID)\n",
    "X = df[['gps_lat', 'gps_lon', 'speed', 'heading', 'distance_to_road']]\n",
    "y = df['road_segment_id']\n"
   ]
  },
  {
   "cell_type": "code",
   "execution_count": 2,
   "id": "41ebf65d-99dc-434b-82dc-0a150c4dd427",
   "metadata": {},
   "outputs": [
    {
     "name": "stdout",
     "output_type": "stream",
     "text": [
      "Accuracy: 1.00\n"
     ]
    }
   ],
   "source": [
    "from sklearn.model_selection import train_test_split\n",
    "from sklearn.ensemble import RandomForestClassifier\n",
    "from sklearn.metrics import accuracy_score\n",
    "\n",
    "# Split data into training and testing sets\n",
    "X_train, X_test, y_train, y_test = train_test_split(X, y, test_size=0.2, random_state=42)\n",
    "\n",
    "# Initialize the model\n",
    "model = RandomForestClassifier(n_estimators=100, random_state=42)\n",
    "\n",
    "# Train the model\n",
    "model.fit(X_train, y_train)\n",
    "\n",
    "# Predict on the test set\n",
    "y_pred = model.predict(X_test)\n",
    "\n",
    "# Evaluate the accuracy\n",
    "accuracy = accuracy_score(y_test, y_pred)\n",
    "print(f'Accuracy: {accuracy:.2f}')\n"
   ]
  },
  {
   "cell_type": "code",
   "execution_count": 3,
   "id": "f2ad3f0c-8b94-4b45-8b60-c3599f7e887a",
   "metadata": {},
   "outputs": [
    {
     "name": "stdout",
     "output_type": "stream",
     "text": [
      "Predicted Road Segment: [1]\n",
      "Predicted Road Segment: [1]\n",
      "Predicted Road Segment: [1]\n",
      "Predicted Road Segment: [1]\n",
      "Predicted Road Segment: [1]\n"
     ]
    },
    {
     "name": "stderr",
     "output_type": "stream",
     "text": [
      "C:\\Users\\Yashwant Mishra\\anaconda3\\Lib\\site-packages\\sklearn\\base.py:493: UserWarning: X does not have valid feature names, but RandomForestClassifier was fitted with feature names\n",
      "  warnings.warn(\n",
      "C:\\Users\\Yashwant Mishra\\anaconda3\\Lib\\site-packages\\sklearn\\base.py:493: UserWarning: X does not have valid feature names, but RandomForestClassifier was fitted with feature names\n",
      "  warnings.warn(\n",
      "C:\\Users\\Yashwant Mishra\\anaconda3\\Lib\\site-packages\\sklearn\\base.py:493: UserWarning: X does not have valid feature names, but RandomForestClassifier was fitted with feature names\n",
      "  warnings.warn(\n",
      "C:\\Users\\Yashwant Mishra\\anaconda3\\Lib\\site-packages\\sklearn\\base.py:493: UserWarning: X does not have valid feature names, but RandomForestClassifier was fitted with feature names\n",
      "  warnings.warn(\n",
      "C:\\Users\\Yashwant Mishra\\anaconda3\\Lib\\site-packages\\sklearn\\base.py:493: UserWarning: X does not have valid feature names, but RandomForestClassifier was fitted with feature names\n",
      "  warnings.warn(\n"
     ]
    }
   ],
   "source": [
    "# Simulate real-time GPS data\n",
    "def get_real_time_gps():\n",
    "    # Example: Simulating random GPS data (you'd get this from a GPS device in real-world)\n",
    "    gps_lat = 41.8904 + np.random.uniform(-0.0001, 0.0001)\n",
    "    gps_lon = 12.4926 + np.random.uniform(-0.0001, 0.0001)\n",
    "    speed = 30 + np.random.uniform(-5, 5)  # Random speed in km/h\n",
    "    heading = 180 + np.random.uniform(-10, 10)  # Random heading in degrees\n",
    "    return gps_lat, gps_lon, speed, heading\n",
    "\n",
    "# Function to predict road segment for real-time GPS data\n",
    "def real_time_map_matching(model):\n",
    "    gps_lat, gps_lon, speed, heading = get_real_time_gps()\n",
    "\n",
    "    # You need to calculate the distance to nearby road segments in real-time as well\n",
    "    # Assuming you have a function to find the nearest road segment's coordinates\n",
    "    nearest_road_lat, nearest_road_lon = 41.8905, 12.4927  # Mocked road segment\n",
    "\n",
    "    # Calculate distance from GPS to the nearest road\n",
    "    distance_to_road = geodesic((gps_lat, gps_lon), (nearest_road_lat, nearest_road_lon)).meters\n",
    "\n",
    "    # Prepare features for prediction\n",
    "    features = np.array([[gps_lat, gps_lon, speed, heading, distance_to_road]])\n",
    "\n",
    "    # Predict the road segment\n",
    "    predicted_segment = model.predict(features)\n",
    "    print(f\"Predicted Road Segment: {predicted_segment}\")\n",
    "\n",
    "# Simulate real-time GPS data processing\n",
    "for _ in range(5):\n",
    "    real_time_map_matching(model)\n"
   ]
  }
 ],
 "metadata": {
  "kernelspec": {
   "display_name": "Python 3 (ipykernel)",
   "language": "python",
   "name": "python3"
  },
  "language_info": {
   "codemirror_mode": {
    "name": "ipython",
    "version": 3
   },
   "file_extension": ".py",
   "mimetype": "text/x-python",
   "name": "python",
   "nbconvert_exporter": "python",
   "pygments_lexer": "ipython3",
   "version": "3.12.4"
  }
 },
 "nbformat": 4,
 "nbformat_minor": 5
}
