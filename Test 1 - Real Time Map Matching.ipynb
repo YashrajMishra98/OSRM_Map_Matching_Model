import pandas as pd
import numpy as np
from geopy.distance import geodesic

# Simulate a DataFrame for testing purposes
data = {
    'gps_lat': [41.8902, 41.8904, 41.8906],
    'gps_lon': [12.4924, 12.4926, 12.4928],
    'road_lat': [41.8903, 41.8905, 41.8907],
    'road_lon': [12.4925, 12.4927, 12.4929],
    'speed': [30, 35, 32],
    'heading': [180, 182, 190],
    'road_segment_id': [1, 1, 2]
}

# Create a DataFrame
df = pd.DataFrame(data)

# Function to calculate distance between GPS point and road point
def calculate_distance(row):
    gps_point = (row['gps_lat'], row['gps_lon'])
    road_point = (row['road_lat'], row['road_lon'])
    return geodesic(gps_point, road_point).meters

# Add a distance feature (distance from GPS to nearest road)
df['distance_to_road'] = df.apply(calculate_distance, axis=1)

# Additional features like speed and heading are already present in the dataset
# You may add more features like timestamp, acceleration, bearing differences, etc.

# Features (input) and labels (road segment ID)
X = df[['gps_lat', 'gps_lon', 'speed', 'heading', 'distance_to_road']]
y = df['road_segment_id']

from sklearn.model_selection import train_test_split
from sklearn.ensemble import RandomForestClassifier
from sklearn.metrics import accuracy_score

# Split data into training and testing sets
X_train, X_test, y_train, y_test = train_test_split(X, y, test_size=0.2, random_state=42)

# Initialize the model
model = RandomForestClassifier(n_estimators=100, random_state=42)

# Train the model
model.fit(X_train, y_train)

# Predict on the test set
y_pred = model.predict(X_test)

# Evaluate the accuracy
accuracy = accuracy_score(y_test, y_pred)
print(f'Accuracy: {accuracy:.2f}')

# Simulate real-time GPS data
def get_real_time_gps():
    # Example: Simulating random GPS data (you'd get this from a GPS device in real-world)
    gps_lat = 41.8904 + np.random.uniform(-0.0001, 0.0001)
    gps_lon = 12.4926 + np.random.uniform(-0.0001, 0.0001)
    speed = 30 + np.random.uniform(-5, 5)  # Random speed in km/h
    heading = 180 + np.random.uniform(-10, 10)  # Random heading in degrees
    return gps_lat, gps_lon, speed, heading

# Function to predict road segment for real-time GPS data
def real_time_map_matching(model):
    gps_lat, gps_lon, speed, heading = get_real_time_gps()

    # You need to calculate the distance to nearby road segments in real-time as well
    # Assuming you have a function to find the nearest road segment's coordinates
    nearest_road_lat, nearest_road_lon = 41.8905, 12.4927  # Mocked road segment

    # Calculate distance from GPS to the nearest road
    distance_to_road = geodesic((gps_lat, gps_lon), (nearest_road_lat, nearest_road_lon)).meters

    # Prepare features for prediction
    features = np.array([[gps_lat, gps_lon, speed, heading, distance_to_road]])

    # Predict the road segment
    predicted_segment = model.predict(features)
    print(f"Predicted Road Segment: {predicted_segment}")

# Simulate real-time GPS data processing
for _ in range(5):
    real_time_map_matching(model)
